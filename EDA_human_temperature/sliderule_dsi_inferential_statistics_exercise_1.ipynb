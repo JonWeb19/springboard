{
 "cells": [
  {
   "cell_type": "markdown",
   "metadata": {},
   "source": [
    "# What is the True Normal Human Body Temperature? \n",
    "\n",
    "#### Background\n",
    "\n",
    "The mean normal body temperature was held to be 37$^{\\circ}$C or 98.6$^{\\circ}$F for more than 120 years since it was first conceptualized and reported by Carl Wunderlich in a famous 1868 book. But, is this value statistically correct?"
   ]
  },
  {
   "cell_type": "markdown",
   "metadata": {},
   "source": [
    "<h3>Exercises</h3>\n",
    "\n",
    "<p>In this exercise, you will analyze a dataset of human body temperatures and employ the concepts of hypothesis testing, confidence intervals, and statistical significance.</p>\n",
    "\n",
    "<p>Answer the following questions <b>in this notebook below and submit to your Github account</b>.</p> \n",
    "\n",
    "<ol>\n",
    "<li>  Is the distribution of body temperatures normal? \n",
    "    <ul>\n",
    "    <li> Although this is not a requirement for the Central Limit Theorem to hold (read the introduction on Wikipedia's page about the CLT carefully: https://en.wikipedia.org/wiki/Central_limit_theorem), it gives us some peace of mind that the population may also be normally distributed if we assume that this sample is representative of the population.\n",
    "    <li> Think about the way you're going to check for the normality of the distribution. Graphical methods are usually used first, but there are also other ways: https://en.wikipedia.org/wiki/Normality_test\n",
    "    </ul>\n",
    "<li>  Is the sample size large? Are the observations independent?\n",
    "    <ul>\n",
    "    <li> Remember that this is a condition for the Central Limit Theorem, and hence the statistical tests we are using, to apply.\n",
    "    </ul>\n",
    "<li>  Is the true population mean really 98.6 degrees F?\n",
    "    <ul>\n",
    "    <li> First, try a bootstrap hypothesis test.\n",
    "    <li> Now, let's try frequentist statistical testing. Would you use a one-sample or two-sample test? Why?\n",
    "    <li> In this situation, is it appropriate to use the $t$ or $z$ statistic? \n",
    "    <li> Now try using the other test. How is the result be different? Why?\n",
    "    </ul>\n",
    "<li>  Draw a small sample of size 10 from the data and repeat both frequentist tests. \n",
    "    <ul>\n",
    "    <li> Which one is the correct one to use? \n",
    "    <li> What do you notice? What does this tell you about the difference in application of the $t$ and $z$ statistic?\n",
    "    </ul>\n",
    "<li>  At what temperature should we consider someone's temperature to be \"abnormal\"?\n",
    "    <ul>\n",
    "    <li> As in the previous example, try calculating everything using the boostrap approach, as well as the frequentist approach.\n",
    "    <li> Start by computing the margin of error and confidence interval. When calculating the confidence interval, keep in mind that you should use the appropriate formula for one draw, and not N draws.\n",
    "    </ul>\n",
    "<li>  Is there a significant difference between males and females in normal temperature?\n",
    "    <ul>\n",
    "    <li> What testing approach did you use and why?\n",
    "    <li> Write a story with your conclusion in the context of the original problem.\n",
    "    </ul>\n",
    "</ol>\n",
    "\n",
    "You can include written notes in notebook cells using Markdown: \n",
    "   - In the control panel at the top, choose Cell > Cell Type > Markdown\n",
    "   - Markdown syntax: http://nestacms.com/docs/creating-content/markdown-cheat-sheet\n",
    "\n",
    "#### Resources\n",
    "\n",
    "+ Information and data sources: http://www.amstat.org/publications/jse/datasets/normtemp.txt, http://www.amstat.org/publications/jse/jse_data_archive.htm\n",
    "+ Markdown syntax: http://nestacms.com/docs/creating-content/markdown-cheat-sheet\n",
    "\n",
    "****"
   ]
  },
  {
   "cell_type": "code",
   "execution_count": 1,
   "metadata": {
    "collapsed": true
   },
   "outputs": [],
   "source": [
    "import pandas as pd\n",
    "import matplotlib.pyplot as plt\n",
    "import seaborn as sns\n",
    "import numpy as np\n",
    " \n",
    "df = pd.read_csv('data/human_body_temperature.csv')"
   ]
  },
  {
   "cell_type": "code",
   "execution_count": 2,
   "metadata": {
    "collapsed": true
   },
   "outputs": [],
   "source": [
    "#this function will give two outputs, one of the sorted data and one of the values shown on a scale of 0 to 1\n",
    "\n",
    "def ecdf(data):\n",
    "\n",
    "    n = len(data)\n",
    "    x = np.sort(data)\n",
    "    y = np.arange(1, n+1) / n\n",
    "\n",
    "    return x, y\n",
    "\n",
    "#this function will create multiple bootstraps from an array\n",
    "\n",
    "def draw_bs_reps(data, func, size=1):\n",
    "\n",
    "\n",
    "    bs_replicates = np.empty(size)\n",
    "    for i in range(size):\n",
    "        bs_replicates[i] = func(np.random.choice(data, size=len(data)))\n",
    "\n",
    "    return bs_replicates"
   ]
  },
  {
   "cell_type": "markdown",
   "metadata": {},
   "source": [
    "## 1. Is the distribution normal?"
   ]
  },
  {
   "cell_type": "code",
   "execution_count": 3,
   "metadata": {},
   "outputs": [
    {
     "data": {
      "image/png": "[encoded data removed]",
      "text/plain": [
       "<matplotlib.figure.Figure at 0x2cf901dabe0>"
      ]
     },
     "metadata": {},
     "output_type": "display_data"
    }
   ],
   "source": [
    "temp = df.temperature\n",
    "temp_mean = np.mean(temp)\n",
    "temp_std = np.std(temp)\n",
    "\n",
    "normal_curve = np.random.normal(temp_mean,temp_std,len(temp))\n",
    "\n",
    "plt.hist(temp)\n",
    "plt.hist(normal_curve, histtype='step')\n",
    "plt.show()\n",
    "#there is a chance of binning bias but the temperatures are very close to a normal distribution (without being exact)"
   ]
  },
  {
   "cell_type": "code",
   "execution_count": 4,
   "metadata": {
    "scrolled": true
   },
   "outputs": [
    {
     "data": {
      "image/png": "[encoded data removed]",
      "text/plain": [
       "<matplotlib.figure.Figure at 0x2cf901dad68>"
      ]
     },
     "metadata": {},
     "output_type": "display_data"
    }
   ],
   "source": [
    "x_temp, y_temp = ecdf(temp)\n",
    "x_theor, y_theor = ecdf(normal_curve)\n",
    "plt.plot(x_temp,y_temp,marker='.',linestyle='none')\n",
    "plt.plot(x_theor,y_theor)\n",
    "plt.show()\n",
    "#using the cdf our data appears to be very close to a normal distribution"
   ]
  },
  {
   "cell_type": "markdown",
   "metadata": {},
   "source": [
    "## 2. Is the sample size large? Are the observations independent?"
   ]
  },
  {
   "cell_type": "code",
   "execution_count": 5,
   "metadata": {},
   "outputs": [
    {
     "name": "stdout",
     "output_type": "stream",
     "text": [
      "130\n"
     ]
    }
   ],
   "source": [
    "print(len(temp))"
   ]
  },
  {
   "cell_type": "markdown",
   "metadata": {},
   "source": [
    "The sample size is  large relative to a z or t statistic. 30 is coinsidered the cutoff between using z or t test.\n",
    "The observations are independent, because the value of any one observation does not effect the value of other observations."
   ]
  },
  {
   "cell_type": "markdown",
   "metadata": {},
   "source": [
    "## 3. Is the true population mean 98.6?"
   ]
  },
  {
   "cell_type": "code",
   "execution_count": 6,
   "metadata": {},
   "outputs": [
    {
     "name": "stdout",
     "output_type": "stream",
     "text": [
      "98.24923076923078\n"
     ]
    }
   ],
   "source": [
    "print(temp_mean)"
   ]
  },
  {
   "cell_type": "code",
   "execution_count": 7,
   "metadata": {},
   "outputs": [
    {
     "name": "stdout",
     "output_type": "stream",
     "text": [
      "0.0\n"
     ]
    }
   ],
   "source": [
    "#Bootstrap Hypothesis Test\n",
    "\n",
    "#Hypothesis: The true mean body temperature is in fact 98.6 degrees.\n",
    "\n",
    "translated_test_temp = temp + 98.6 - np.mean(temp)\n",
    "#this translated data now has a mean of 98.6, but the same variance and standard deviation as the sample.\n",
    "bs_replicates = draw_bs_reps(translated_test_temp,np.mean,10000)\n",
    "p = np.sum(bs_replicates <= np.mean(temp)) / len(bs_replicates)\n",
    "print(p)"
   ]
  },
  {
   "cell_type": "markdown",
   "metadata": {},
   "source": [
    "A p value of zero indicates that our null hypothesis is false! Very few (if any) of our bootstrap samples had\n",
    "a mean more extreme than our sample mean. Perhaps the true mean temperature of the population is\n",
    "actually lower than 98.6."
   ]
  },
  {
   "cell_type": "markdown",
   "metadata": {},
   "source": [
    "For frequentist statistical testing, we would use a one-sample test because we only have the one sample to use.\n",
    "\n",
    "Here it would be best to use the z statistic, because we have enough samples (>30).\n",
    "Z statistic is (sample mean - expected mean) / standard deviation of the sampling distripution.\n",
    "We find the standard deviation of the sampling distribution by: standard deviation of our sample data / the square\n",
    "root of our sample size"
   ]
  },
  {
   "cell_type": "code",
   "execution_count": 8,
   "metadata": {},
   "outputs": [
    {
     "name": "stdout",
     "output_type": "stream",
     "text": [
      "-5.47592520208\n"
     ]
    }
   ],
   "source": [
    "z = (temp_mean - 98.6)/(temp_std/np.sqrt(130))\n",
    "print(z)"
   ]
  },
  {
   "cell_type": "markdown",
   "metadata": {
    "collapsed": true
   },
   "source": [
    "Seeing as 99% of values fall within 3 standard deviations of the mean, A z statistic of -5.48 \n",
    "is very large and makes it extremely unlikely we recieved our \n",
    "results by chance despite a genuine mean of 98.6."
   ]
  },
  {
   "cell_type": "code",
   "execution_count": 9,
   "metadata": {},
   "outputs": [
    {
     "name": "stdout",
     "output_type": "stream",
     "text": [
      "0.127088323555\n",
      "98.24923076923078\n"
     ]
    }
   ],
   "source": [
    "#for caluclating t-value, we will perform: sample mean plus or minus (t-value*sample std/sqrt(sample size)).  We will\n",
    "#attempt to find a 95% confidence interval for our value.\n",
    "\n",
    "margin_of_error = 1.984 * temp_std / np.sqrt(130)\n",
    "print(margin_of_error)\n",
    "print(temp_mean)"
   ]
  },
  {
   "cell_type": "markdown",
   "metadata": {
    "collapsed": true
   },
   "source": [
    "A 95% confidence interval for our mean body temperatuire is 98.249 plus or minus .127, again the expected \n",
    "mean value of 98.6 does not fall within our 95% confidence interval"
   ]
  },
  {
   "cell_type": "markdown",
   "metadata": {},
   "source": [
    "## 4. Take 10 samples, run z and t tests again"
   ]
  },
  {
   "cell_type": "code",
   "execution_count": 14,
   "metadata": {},
   "outputs": [
    {
     "name": "stdout",
     "output_type": "stream",
     "text": [
      "[ 99.5  97.6  99.2  98.8  97.8  98.3  98.9  98.   98.8  97.9]\n",
      "-0.617540227194\n"
     ]
    }
   ],
   "source": [
    "sample_temp_10 = np.random.choice(temp,10)\n",
    "print(sample_temp_10)\n",
    "#z test\n",
    "\n",
    "z = (np.mean(sample_temp_10) - 98.6) / (np.std(sample_temp_10)/np.sqrt(10))\n",
    "print(z)"
   ]
  },
  {
   "cell_type": "markdown",
   "metadata": {},
   "source": [
    "A z negative z score between -.5 and -2.5 (most results fall in this range depending on the sample of 10) means it is possible for us to have gotten our result by chance."
   ]
  },
  {
   "cell_type": "code",
   "execution_count": 15,
   "metadata": {},
   "outputs": [
    {
     "name": "stdout",
     "output_type": "stream",
     "text": [
      "0.463326711511\n",
      "98.48\n"
     ]
    }
   ],
   "source": [
    "#t test\n",
    "\n",
    "margin_of_error_10 = 2.262 * np.std(sample_temp_10) / np.sqrt(9)\n",
    "print(margin_of_error_10)\n",
    "print(np.mean(sample_temp_10))"
   ]
  },
  {
   "cell_type": "markdown",
   "metadata": {},
   "source": [
    "Our 95% confidence interval, given our ten samples, is 98.48 plus or minus .46.  The expected average mean of 98.6 is indeed within our 95% confidence interval.  The correct statistic to use would be the t statistic. This is because our sample size of 10 is smaller than 30.  The biggest difference using this smaller data set is of course the accuracy of the z-test, which is not meant to work with a sample size so low."
   ]
  },
  {
   "cell_type": "markdown",
   "metadata": {},
   "source": [
    "## 5. What is an abnormal temperature? Use bootstrap and frequentist"
   ]
  },
  {
   "cell_type": "markdown",
   "metadata": {
    "collapsed": true
   },
   "source": [
    "An abnormal temperature, according to our sample, would be a temperature that doesn't fall within our 95% confidence interval.  Thus, according to our frequentist analysis, any temperature that is not in the range of  98.249 plus or minus .127. To calculate a 95% confidence interval using our bootstraps..."
   ]
  },
  {
   "cell_type": "code",
   "execution_count": 16,
   "metadata": {},
   "outputs": [
    {
     "name": "stdout",
     "output_type": "stream",
     "text": [
      "[ 98.12692308  98.37461538]\n"
     ]
    }
   ],
   "source": [
    "bs_replicates_unshifted = draw_bs_reps(temp,np.mean,10000)\n",
    "conf_int_95 = np.percentile(bs_replicates_unshifted,[2.5,97.5])\n",
    "print(conf_int_95)"
   ]
  },
  {
   "cell_type": "markdown",
   "metadata": {},
   "source": [
    "The 95 percent confidence interval from our bootstrap analysis is 98.125 to 98.374. An abnormal temperature would be one that does not fall within this range."
   ]
  },
  {
   "cell_type": "markdown",
   "metadata": {},
   "source": [
    "## 6. Difference between male and female average temerature?"
   ]
  },
  {
   "cell_type": "markdown",
   "metadata": {},
   "source": [
    "To check for a difference in the average temerature of males and females, we will perform a two-sample t-test. Our null hypothesis will be that there is no difference in temperature by gender."
   ]
  },
  {
   "cell_type": "code",
   "execution_count": 21,
   "metadata": {},
   "outputs": [
    {
     "name": "stdout",
     "output_type": "stream",
     "text": [
      "65\n",
      "65\n"
     ]
    }
   ],
   "source": [
    "male_df = df[df.gender == 'M']\n",
    "female_df = df[df.gender == 'F']\n",
    "print(len(male_df))\n",
    "print(len(female_df))"
   ]
  },
  {
   "cell_type": "code",
   "execution_count": 27,
   "metadata": {},
   "outputs": [
    {
     "name": "stdout",
     "output_type": "stream",
     "text": [
      "95% confidence interval for male temperature: 98.10 plus or minus 0.168\n",
      "95% confidence interval for female temperature: 98.39 plus or minus 0.179\n"
     ]
    }
   ],
   "source": [
    "#95% confidence interval for males\n",
    "male_sample_avg = np.mean(male_df.temperature)\n",
    "male_sample_moe = 1.962 * np.std(male_df.temperature) / np.sqrt(65)\n",
    "print('95% confidence interval for male temperature: ' + str(male_sample_avg)[:5] + ' plus or minus ' + str(male_sample_moe)[:5])\n",
    "\n",
    "#95% confidence interval for female\n",
    "female_sample_avg = np.mean(female_df.temperature)\n",
    "female_sample_moe = 1.962 * np.std(female_df.temperature) / np.sqrt(65)\n",
    "print('95% confidence interval for female temperature: ' + str(female_sample_avg)[:5] + ' plus or minus ' + str(female_sample_moe)[:5])"
   ]
  },
  {
   "cell_type": "markdown",
   "metadata": {},
   "source": [
    "These confidence intervals do not intersect at all.  Within our sample, it is very unlikely that the true mean body temperature of males and females are the same."
   ]
  }
 ],
 "metadata": {
  "kernelspec": {
   "display_name": "Python 3",
   "language": "python",
   "name": "python3"
  },
  "language_info": {
   "codemirror_mode": {
    "name": "ipython",
    "version": 3
   },
   "file_extension": ".py",
   "mimetype": "text/x-python",
   "name": "python",
   "nbconvert_exporter": "python",
   "pygments_lexer": "ipython3",
   "version": "3.6.2"
  }
 },
 "nbformat": 4,
 "nbformat_minor": 1
}
